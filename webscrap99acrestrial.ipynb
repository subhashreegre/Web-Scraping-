{
  "nbformat": 4,
  "nbformat_minor": 0,
  "metadata": {
    "colab": {
      "provenance": [],
      "authorship_tag": "ABX9TyNUKUyQXfFTKT/ORCRs8ERF",
      "include_colab_link": true
    },
    "kernelspec": {
      "name": "python3",
      "display_name": "Python 3"
    },
    "language_info": {
      "name": "python"
    },
    "widgets": {
      "application/vnd.jupyter.widget-state+json": {
        "9cb4e8489677442c95484c81e8b8b1b4": {
          "model_module": "@jupyter-widgets/controls",
          "model_name": "SelectMultipleModel",
          "model_module_version": "1.5.0",
          "state": {
            "_dom_classes": [],
            "_model_module": "@jupyter-widgets/controls",
            "_model_module_version": "1.5.0",
            "_model_name": "SelectMultipleModel",
            "_options_labels": [
              "hyderabad",
              "bangalore",
              "mumbai",
              "delhi",
              "chennai"
            ],
            "_view_count": null,
            "_view_module": "@jupyter-widgets/controls",
            "_view_module_version": "1.5.0",
            "_view_name": "SelectMultipleView",
            "description": "Cities:",
            "description_tooltip": null,
            "disabled": false,
            "index": [
              2
            ],
            "layout": "IPY_MODEL_5ffe7a5e41624c64ba38674d3c9879c0",
            "rows": 5,
            "style": "IPY_MODEL_876d11a2c5324a6ea74bceb5e5501c2d"
          }
        },
        "5ffe7a5e41624c64ba38674d3c9879c0": {
          "model_module": "@jupyter-widgets/base",
          "model_name": "LayoutModel",
          "model_module_version": "1.2.0",
          "state": {
            "_model_module": "@jupyter-widgets/base",
            "_model_module_version": "1.2.0",
            "_model_name": "LayoutModel",
            "_view_count": null,
            "_view_module": "@jupyter-widgets/base",
            "_view_module_version": "1.2.0",
            "_view_name": "LayoutView",
            "align_content": null,
            "align_items": null,
            "align_self": null,
            "border": null,
            "bottom": null,
            "display": null,
            "flex": null,
            "flex_flow": null,
            "grid_area": null,
            "grid_auto_columns": null,
            "grid_auto_flow": null,
            "grid_auto_rows": null,
            "grid_column": null,
            "grid_gap": null,
            "grid_row": null,
            "grid_template_areas": null,
            "grid_template_columns": null,
            "grid_template_rows": null,
            "height": null,
            "justify_content": null,
            "justify_items": null,
            "left": null,
            "margin": null,
            "max_height": null,
            "max_width": null,
            "min_height": null,
            "min_width": null,
            "object_fit": null,
            "object_position": null,
            "order": null,
            "overflow": null,
            "overflow_x": null,
            "overflow_y": null,
            "padding": null,
            "right": null,
            "top": null,
            "visibility": null,
            "width": null
          }
        },
        "876d11a2c5324a6ea74bceb5e5501c2d": {
          "model_module": "@jupyter-widgets/controls",
          "model_name": "DescriptionStyleModel",
          "model_module_version": "1.5.0",
          "state": {
            "_model_module": "@jupyter-widgets/controls",
            "_model_module_version": "1.5.0",
            "_model_name": "DescriptionStyleModel",
            "_view_count": null,
            "_view_module": "@jupyter-widgets/base",
            "_view_module_version": "1.2.0",
            "_view_name": "StyleView",
            "description_width": "initial"
          }
        },
        "c8c4cfed1c104b1aa94a0aa5343e327e": {
          "model_module": "@jupyter-widgets/controls",
          "model_name": "IntSliderModel",
          "model_module_version": "1.5.0",
          "state": {
            "_dom_classes": [],
            "_model_module": "@jupyter-widgets/controls",
            "_model_module_version": "1.5.0",
            "_model_name": "IntSliderModel",
            "_view_count": null,
            "_view_module": "@jupyter-widgets/controls",
            "_view_module_version": "1.5.0",
            "_view_name": "IntSliderView",
            "continuous_update": true,
            "description": "Pages per city:",
            "description_tooltip": null,
            "disabled": false,
            "layout": "IPY_MODEL_e9f8af2fc7af451685d9b80d63cf94fd",
            "max": 10,
            "min": 1,
            "orientation": "horizontal",
            "readout": true,
            "readout_format": "d",
            "step": 1,
            "style": "IPY_MODEL_c32165014c674e2c936b7ebb8f14a646",
            "value": 2
          }
        },
        "e9f8af2fc7af451685d9b80d63cf94fd": {
          "model_module": "@jupyter-widgets/base",
          "model_name": "LayoutModel",
          "model_module_version": "1.2.0",
          "state": {
            "_model_module": "@jupyter-widgets/base",
            "_model_module_version": "1.2.0",
            "_model_name": "LayoutModel",
            "_view_count": null,
            "_view_module": "@jupyter-widgets/base",
            "_view_module_version": "1.2.0",
            "_view_name": "LayoutView",
            "align_content": null,
            "align_items": null,
            "align_self": null,
            "border": null,
            "bottom": null,
            "display": null,
            "flex": null,
            "flex_flow": null,
            "grid_area": null,
            "grid_auto_columns": null,
            "grid_auto_flow": null,
            "grid_auto_rows": null,
            "grid_column": null,
            "grid_gap": null,
            "grid_row": null,
            "grid_template_areas": null,
            "grid_template_columns": null,
            "grid_template_rows": null,
            "height": null,
            "justify_content": null,
            "justify_items": null,
            "left": null,
            "margin": null,
            "max_height": null,
            "max_width": null,
            "min_height": null,
            "min_width": null,
            "object_fit": null,
            "object_position": null,
            "order": null,
            "overflow": null,
            "overflow_x": null,
            "overflow_y": null,
            "padding": null,
            "right": null,
            "top": null,
            "visibility": null,
            "width": null
          }
        },
        "c32165014c674e2c936b7ebb8f14a646": {
          "model_module": "@jupyter-widgets/controls",
          "model_name": "SliderStyleModel",
          "model_module_version": "1.5.0",
          "state": {
            "_model_module": "@jupyter-widgets/controls",
            "_model_module_version": "1.5.0",
            "_model_name": "SliderStyleModel",
            "_view_count": null,
            "_view_module": "@jupyter-widgets/base",
            "_view_module_version": "1.2.0",
            "_view_name": "StyleView",
            "description_width": "initial",
            "handle_color": null
          }
        },
        "3be81a51e25e4116bb21c1d048a91aeb": {
          "model_module": "@jupyter-widgets/controls",
          "model_name": "ButtonModel",
          "model_module_version": "1.5.0",
          "state": {
            "_dom_classes": [],
            "_model_module": "@jupyter-widgets/controls",
            "_model_module_version": "1.5.0",
            "_model_name": "ButtonModel",
            "_view_count": null,
            "_view_module": "@jupyter-widgets/controls",
            "_view_module_version": "1.5.0",
            "_view_name": "ButtonView",
            "button_style": "success",
            "description": "Start Scraping",
            "disabled": false,
            "icon": "",
            "layout": "IPY_MODEL_b1d9267e3bd6477ca08e51e5b3bbfbd2",
            "style": "IPY_MODEL_2879b7cb9c38427b88ac8511df03c366",
            "tooltip": ""
          }
        },
        "b1d9267e3bd6477ca08e51e5b3bbfbd2": {
          "model_module": "@jupyter-widgets/base",
          "model_name": "LayoutModel",
          "model_module_version": "1.2.0",
          "state": {
            "_model_module": "@jupyter-widgets/base",
            "_model_module_version": "1.2.0",
            "_model_name": "LayoutModel",
            "_view_count": null,
            "_view_module": "@jupyter-widgets/base",
            "_view_module_version": "1.2.0",
            "_view_name": "LayoutView",
            "align_content": null,
            "align_items": null,
            "align_self": null,
            "border": null,
            "bottom": null,
            "display": null,
            "flex": null,
            "flex_flow": null,
            "grid_area": null,
            "grid_auto_columns": null,
            "grid_auto_flow": null,
            "grid_auto_rows": null,
            "grid_column": null,
            "grid_gap": null,
            "grid_row": null,
            "grid_template_areas": null,
            "grid_template_columns": null,
            "grid_template_rows": null,
            "height": null,
            "justify_content": null,
            "justify_items": null,
            "left": null,
            "margin": null,
            "max_height": null,
            "max_width": null,
            "min_height": null,
            "min_width": null,
            "object_fit": null,
            "object_position": null,
            "order": null,
            "overflow": null,
            "overflow_x": null,
            "overflow_y": null,
            "padding": null,
            "right": null,
            "top": null,
            "visibility": null,
            "width": null
          }
        },
        "2879b7cb9c38427b88ac8511df03c366": {
          "model_module": "@jupyter-widgets/controls",
          "model_name": "ButtonStyleModel",
          "model_module_version": "1.5.0",
          "state": {
            "_model_module": "@jupyter-widgets/controls",
            "_model_module_version": "1.5.0",
            "_model_name": "ButtonStyleModel",
            "_view_count": null,
            "_view_module": "@jupyter-widgets/base",
            "_view_module_version": "1.2.0",
            "_view_name": "StyleView",
            "button_color": null,
            "font_weight": ""
          }
        }
      }
    }
  },
  "cells": [
    {
      "cell_type": "markdown",
      "metadata": {
        "id": "view-in-github",
        "colab_type": "text"
      },
      "source": [
        "<a href=\"https://colab.research.google.com/github/subhashreegre/Web-Scraping-/blob/main/webscrap99acrestrial.ipynb\" target=\"_parent\"><img src=\"https://colab.research.google.com/assets/colab-badge.svg\" alt=\"Open In Colab\"/></a>"
      ]
    },
    {
      "cell_type": "code",
      "execution_count": 7,
      "metadata": {
        "id": "WWdUTaiY_-OL"
      },
      "outputs": [],
      "source": [
        "!pip install ipywidgets beautifulsoup4 requests --quiet"
      ]
    },
    {
      "cell_type": "code",
      "source": [
        "import requests\n",
        "from bs4 import BeautifulSoup\n",
        "import csv\n",
        "import time\n",
        "import ipywidgets as widgets\n",
        "from IPython.display import display, clear_output\n",
        "from google.colab import files"
      ],
      "metadata": {
        "id": "ZmL3rmsVAHWo"
      },
      "execution_count": 8,
      "outputs": []
    },
    {
      "cell_type": "code",
      "source": [
        "def scrape_99acres(city_name, pages):\n",
        "    headers = {\n",
        "        \"User-Agent\": \"Mozilla/5.0 (Windows NT 10.0; Win64; x64)\"\n",
        "    }\n",
        "\n",
        "    filename = f\"{city_name}_listings.csv\"\n",
        "    with open(filename, 'w', newline='', encoding='utf-8') as f:\n",
        "        writer = csv.DictWriter(f, fieldnames=[\"Name\", \"Location\", \"Price\"])\n",
        "        writer.writeheader()\n",
        "\n",
        "        for page in range(1, pages + 1):\n",
        "            print(f\"Scraping page {page} for {city_name.title()}...\")\n",
        "            url = f\"https://www.99acres.com/search/property/buy/{city_name}-all?city=575&keyword={city_name}&page={page}\"\n",
        "\n",
        "            res = requests.get(url, headers=headers)\n",
        "            if res.status_code != 200:\n",
        "                print(f\"Failed to fetch page {page} for {city_name}\")\n",
        "                continue\n",
        "\n",
        "            soup = BeautifulSoup(res.text, 'html.parser')\n",
        "            listings = soup.find_all('div', class_='srpTuple__tupleTable')\n",
        "\n",
        "            if not listings:\n",
        "                print(f\"No listings found on page {page} for {city_name}\")\n",
        "                break\n",
        "\n",
        "            for listing in listings:\n",
        "                try:\n",
        "                    name = listing.find('a', class_='srpTuple__propertyName').text.strip()\n",
        "                    location = listing.find('div', class_='srpTuple__propertyName').find_next_sibling().text.strip()\n",
        "                    price = listing.find('td', class_='srpTuple__midGrid price').text.strip()\n",
        "\n",
        "                    writer.writerow({\n",
        "                        \"Name\": name,\n",
        "                        \"Location\": location,\n",
        "                        \"Price\": price\n",
        "                    })\n",
        "                except:\n",
        "                    continue\n",
        "\n",
        "            time.sleep(1.5)\n",
        "\n",
        "    print(f\"Done scraping {city_name.title()}. Downloading CSV...\")\n",
        "    files.download(filename)"
      ],
      "metadata": {
        "id": "7KRVCtn9AOkv"
      },
      "execution_count": 9,
      "outputs": []
    },
    {
      "cell_type": "code",
      "source": [
        "# City selection\n",
        "city_dropdown = widgets.SelectMultiple(\n",
        "    options=[\"hyderabad\", \"bangalore\", \"mumbai\", \"delhi\", \"chennai\"],\n",
        "    value=[\"hyderabad\"],\n",
        "    description='Cities:',\n",
        "    style={'description_width': 'initial'}\n",
        ")\n",
        "\n",
        "# Page count\n",
        "page_slider = widgets.IntSlider(\n",
        "    value=2,\n",
        "    min=1,\n",
        "    max=10,\n",
        "    step=1,\n",
        "    description='Pages per city:',\n",
        "    style={'description_width': 'initial'}\n",
        ")\n",
        "\n",
        "# Scrape button\n",
        "scrape_button = widgets.Button(\n",
        "    description=\"Start Scraping\",\n",
        "    button_style='success'\n",
        ")"
      ],
      "metadata": {
        "id": "QQA2W9raAUkw"
      },
      "execution_count": 10,
      "outputs": []
    },
    {
      "cell_type": "code",
      "source": [
        "def on_scrape_button_click(b):\n",
        "    clear_output()\n",
        "    display(city_dropdown, page_slider, scrape_button)\n",
        "    selected_cities = list(city_dropdown.value)\n",
        "    pages = page_slider.value\n",
        "\n",
        "    for city in selected_cities:\n",
        "        scrape_99acres(city, pages)\n",
        "\n",
        "scrape_button.on_click(on_scrape_button_click)\n",
        "display(city_dropdown, page_slider, scrape_button)"
      ],
      "metadata": {
        "colab": {
          "base_uri": "https://localhost:8080/",
          "height": 172,
          "referenced_widgets": [
            "9cb4e8489677442c95484c81e8b8b1b4",
            "5ffe7a5e41624c64ba38674d3c9879c0",
            "876d11a2c5324a6ea74bceb5e5501c2d",
            "c8c4cfed1c104b1aa94a0aa5343e327e",
            "e9f8af2fc7af451685d9b80d63cf94fd",
            "c32165014c674e2c936b7ebb8f14a646",
            "3be81a51e25e4116bb21c1d048a91aeb",
            "b1d9267e3bd6477ca08e51e5b3bbfbd2",
            "2879b7cb9c38427b88ac8511df03c366"
          ]
        },
        "id": "rRsruepVAbWe",
        "outputId": "b9b891e7-a79d-4554-9a7a-25b7600918a9"
      },
      "execution_count": 15,
      "outputs": [
        {
          "output_type": "display_data",
          "data": {
            "text/plain": [
              "SelectMultiple(description='Cities:', index=(2,), options=('hyderabad', 'bangalore', 'mumbai', 'delhi', 'chenn…"
            ],
            "application/vnd.jupyter.widget-view+json": {
              "version_major": 2,
              "version_minor": 0,
              "model_id": "9cb4e8489677442c95484c81e8b8b1b4"
            }
          },
          "metadata": {}
        },
        {
          "output_type": "display_data",
          "data": {
            "text/plain": [
              "IntSlider(value=2, description='Pages per city:', max=10, min=1, style=SliderStyle(description_width='initial'…"
            ],
            "application/vnd.jupyter.widget-view+json": {
              "version_major": 2,
              "version_minor": 0,
              "model_id": "c8c4cfed1c104b1aa94a0aa5343e327e"
            }
          },
          "metadata": {}
        },
        {
          "output_type": "display_data",
          "data": {
            "text/plain": [
              "Button(button_style='success', description='Start Scraping', style=ButtonStyle())"
            ],
            "application/vnd.jupyter.widget-view+json": {
              "version_major": 2,
              "version_minor": 0,
              "model_id": "3be81a51e25e4116bb21c1d048a91aeb"
            }
          },
          "metadata": {}
        }
      ]
    },
    {
      "cell_type": "code",
      "source": [
        "def scrape_99acres(city_name, pages):\n",
        "    headers = {\n",
        "        \"User-Agent\": \"Mozilla/5.0 (Windows NT 10.0; Win64; x64)\"\n",
        "    }\n",
        "\n",
        "    filename = f\"{city_name}_listings.csv\"\n",
        "    with open(filename, 'w', newline='', encoding='utf-8') as f:\n",
        "        writer = csv.DictWriter(f, fieldnames=[\"Name\", \"Location\", \"Price\"])\n",
        "        writer.writeheader()\n",
        "\n",
        "        for page in range(1, pages + 1):\n",
        "            print(f\"\\nScraping page {page} for {city_name.title()}...\")\n",
        "            url = f\"https://www.99acres.com/search/property/buy/{city_name}-all?city=575&keyword={city_name}&page={page}\"\n",
        "\n",
        "            try:\n",
        "                res = requests.get(url, headers=headers)\n",
        "                if res.status_code != 200:\n",
        "                    print(f\"Failed to fetch page {page} for {city_name}, status code: {res.status_code}\")\n",
        "                    continue\n",
        "\n",
        "                soup = BeautifulSoup(res.text, 'html.parser')\n",
        "\n",
        "                # DEBUG: Check if listings are present\n",
        "                listings = soup.find_all('div', {'class': lambda x: x and 'projectTuple' in x})\n",
        "                print(f\"Found {len(listings)} listings.\")\n",
        "\n",
        "                if not listings:\n",
        "                    print(\"No listings found. Structure might have changed.\")\n",
        "                    continue\n",
        "\n",
        "                for listing in listings:\n",
        "                    try:\n",
        "                        name = listing.find('a').text.strip()\n",
        "                    except:\n",
        "                        name = \"N/A\"\n",
        "                    try:\n",
        "                        location = listing.find('h2').text.strip()\n",
        "                    except:\n",
        "                        location = \"N/A\"\n",
        "                    try:\n",
        "                        price = listing.find('div', string=lambda t: t and '₹' in t).text.strip()\n",
        "                    except:\n",
        "                        price = \"N/A\"\n",
        "\n",
        "                    writer.writerow({\n",
        "                        \"Name\": name,\n",
        "                        \"Location\": location,\n",
        "                        \"Price\": price\n",
        "                    })\n",
        "\n",
        "                time.sleep(1.5)\n",
        "\n",
        "            except Exception as e:\n",
        "                print(f\"Error scraping page {page}: {e}\")\n",
        "                continue\n",
        "\n",
        "    print(f\"\\nDone scraping {city_name.title()}! File saved as: {filename}\")\n",
        "    files.download(filename)"
      ],
      "metadata": {
        "id": "Ow0sj-I0CASN"
      },
      "execution_count": 13,
      "outputs": []
    }
  ]
}